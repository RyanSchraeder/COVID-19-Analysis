{
 "cells": [
  {
   "cell_type": "markdown",
   "metadata": {},
   "source": [
    "#### Imports "
   ]
  },
  {
   "cell_type": "code",
   "execution_count": 31,
   "metadata": {},
   "outputs": [],
   "source": [
    "import numpy as np\n",
    "\n",
    "# Regex # \n",
    "import re \n",
    "\n",
    "# Pandas, datetime for data munging # \n",
    "import pandas as pd\n",
    "from datetime import datetime, timedelta\n",
    "\n",
    "# Plots #\n",
    "import plotly.express as px\n",
    "# import plotly.graph_objects as go  -- for range sliders\n",
    "import matplotlib.pyplot as plt\n",
    "import matplotlib.ticker as ticker\n",
    "import seaborn as sns\n",
    "\n",
    "%matplotlib inline"
   ]
  },
  {
   "cell_type": "markdown",
   "metadata": {},
   "source": [
    "### The Project at First Glance\n",
    "\n",
    "    The goal of this project is to analyze what we know about COVID-19's statistical significance, as well as conduct a forecast analysis to predict the severity of COVID-19 as we approach the Winter season. Could there be another arduous wave of COVID-19 through Winter? If so, how detrimental may it be toward our efforts to flatten the curve?\n",
    "    \n",
    "    \n",
    "#### Null Hypothesis: COVID-19 Deaths are not associated with active cases, and rather attributed to other causes \n",
    "#### Hypothesis : COVID-19 Deaths are associated with active cases \n",
    "\n",
    "\n",
    "    \n",
    "- Dataset - https://raw.githubusercontent.com/CSSEGISandData/COVID-19/ (Johns Hopkins CSSEGIS, Johns Hopkins University Center for Systems Science and Engineering (JHU CSSE))"
   ]
  },
  {
   "cell_type": "markdown",
   "metadata": {},
   "source": [
    "# Part 1 : Data Retrieval & Cleaning\n",
    "\n",
    "I started by gathering data for all confirmed cases of COVID-19 to date, and cleaned it up to be versatile for later steps. Separation of cases in a heirarchy is my next step, where I will retrieve data for confirmed fatalities due to COVID-19, recoveries, and remaining active confirmed cases that are inconclusive. "
   ]
  },
  {
   "cell_type": "markdown",
   "metadata": {},
   "source": [
    "#### *Subset 1 - Confirmed Cases of COVID-19*"
   ]
  },
  {
   "cell_type": "code",
   "execution_count": 32,
   "metadata": {},
   "outputs": [
    {
     "name": "stdout",
     "output_type": "stream",
     "text": [
      "<class 'pandas.core.frame.DataFrame'>\n",
      "RangeIndex: 266 entries, 0 to 265\n",
      "Columns: 183 entries, Province/State to 7/18/20\n",
      "dtypes: float64(2), int64(179), object(2)\n",
      "memory usage: 380.4+ KB\n"
     ]
    },
    {
     "data": {
      "text/html": [
       "<div>\n",
       "<style scoped>\n",
       "    .dataframe tbody tr th:only-of-type {\n",
       "        vertical-align: middle;\n",
       "    }\n",
       "\n",
       "    .dataframe tbody tr th {\n",
       "        vertical-align: top;\n",
       "    }\n",
       "\n",
       "    .dataframe thead th {\n",
       "        text-align: right;\n",
       "    }\n",
       "</style>\n",
       "<table border=\"1\" class=\"dataframe\">\n",
       "  <thead>\n",
       "    <tr style=\"text-align: right;\">\n",
       "      <th></th>\n",
       "      <th>Province/State</th>\n",
       "      <th>Country/Region</th>\n",
       "      <th>Lat</th>\n",
       "      <th>Long</th>\n",
       "      <th>1/22/20</th>\n",
       "      <th>1/23/20</th>\n",
       "      <th>1/24/20</th>\n",
       "      <th>1/25/20</th>\n",
       "      <th>1/26/20</th>\n",
       "      <th>1/27/20</th>\n",
       "      <th>...</th>\n",
       "      <th>7/9/20</th>\n",
       "      <th>7/10/20</th>\n",
       "      <th>7/11/20</th>\n",
       "      <th>7/12/20</th>\n",
       "      <th>7/13/20</th>\n",
       "      <th>7/14/20</th>\n",
       "      <th>7/15/20</th>\n",
       "      <th>7/16/20</th>\n",
       "      <th>7/17/20</th>\n",
       "      <th>7/18/20</th>\n",
       "    </tr>\n",
       "  </thead>\n",
       "  <tbody>\n",
       "    <tr>\n",
       "      <th>0</th>\n",
       "      <td></td>\n",
       "      <td>Afghanistan</td>\n",
       "      <td>33.93911</td>\n",
       "      <td>67.709953</td>\n",
       "      <td>0</td>\n",
       "      <td>0</td>\n",
       "      <td>0</td>\n",
       "      <td>0</td>\n",
       "      <td>0</td>\n",
       "      <td>0</td>\n",
       "      <td>...</td>\n",
       "      <td>33908</td>\n",
       "      <td>34194</td>\n",
       "      <td>34366</td>\n",
       "      <td>34451</td>\n",
       "      <td>34455</td>\n",
       "      <td>34740</td>\n",
       "      <td>34994</td>\n",
       "      <td>35070</td>\n",
       "      <td>35229</td>\n",
       "      <td>35301</td>\n",
       "    </tr>\n",
       "    <tr>\n",
       "      <th>1</th>\n",
       "      <td></td>\n",
       "      <td>Albania</td>\n",
       "      <td>41.15330</td>\n",
       "      <td>20.168300</td>\n",
       "      <td>0</td>\n",
       "      <td>0</td>\n",
       "      <td>0</td>\n",
       "      <td>0</td>\n",
       "      <td>0</td>\n",
       "      <td>0</td>\n",
       "      <td>...</td>\n",
       "      <td>3188</td>\n",
       "      <td>3278</td>\n",
       "      <td>3371</td>\n",
       "      <td>3454</td>\n",
       "      <td>3571</td>\n",
       "      <td>3667</td>\n",
       "      <td>3752</td>\n",
       "      <td>3851</td>\n",
       "      <td>3906</td>\n",
       "      <td>4008</td>\n",
       "    </tr>\n",
       "    <tr>\n",
       "      <th>2</th>\n",
       "      <td></td>\n",
       "      <td>Algeria</td>\n",
       "      <td>28.03390</td>\n",
       "      <td>1.659600</td>\n",
       "      <td>0</td>\n",
       "      <td>0</td>\n",
       "      <td>0</td>\n",
       "      <td>0</td>\n",
       "      <td>0</td>\n",
       "      <td>0</td>\n",
       "      <td>...</td>\n",
       "      <td>17808</td>\n",
       "      <td>18242</td>\n",
       "      <td>18712</td>\n",
       "      <td>19195</td>\n",
       "      <td>19689</td>\n",
       "      <td>20216</td>\n",
       "      <td>20770</td>\n",
       "      <td>21355</td>\n",
       "      <td>21948</td>\n",
       "      <td>22549</td>\n",
       "    </tr>\n",
       "    <tr>\n",
       "      <th>3</th>\n",
       "      <td></td>\n",
       "      <td>Andorra</td>\n",
       "      <td>42.50630</td>\n",
       "      <td>1.521800</td>\n",
       "      <td>0</td>\n",
       "      <td>0</td>\n",
       "      <td>0</td>\n",
       "      <td>0</td>\n",
       "      <td>0</td>\n",
       "      <td>0</td>\n",
       "      <td>...</td>\n",
       "      <td>855</td>\n",
       "      <td>855</td>\n",
       "      <td>855</td>\n",
       "      <td>855</td>\n",
       "      <td>858</td>\n",
       "      <td>861</td>\n",
       "      <td>862</td>\n",
       "      <td>877</td>\n",
       "      <td>880</td>\n",
       "      <td>880</td>\n",
       "    </tr>\n",
       "    <tr>\n",
       "      <th>4</th>\n",
       "      <td></td>\n",
       "      <td>Angola</td>\n",
       "      <td>-11.20270</td>\n",
       "      <td>17.873900</td>\n",
       "      <td>0</td>\n",
       "      <td>0</td>\n",
       "      <td>0</td>\n",
       "      <td>0</td>\n",
       "      <td>0</td>\n",
       "      <td>0</td>\n",
       "      <td>...</td>\n",
       "      <td>396</td>\n",
       "      <td>458</td>\n",
       "      <td>462</td>\n",
       "      <td>506</td>\n",
       "      <td>525</td>\n",
       "      <td>541</td>\n",
       "      <td>576</td>\n",
       "      <td>607</td>\n",
       "      <td>638</td>\n",
       "      <td>687</td>\n",
       "    </tr>\n",
       "  </tbody>\n",
       "</table>\n",
       "<p>5 rows × 183 columns</p>\n",
       "</div>"
      ],
      "text/plain": [
       "  Province/State Country/Region       Lat       Long  1/22/20  1/23/20  \\\n",
       "0                   Afghanistan  33.93911  67.709953        0        0   \n",
       "1                       Albania  41.15330  20.168300        0        0   \n",
       "2                       Algeria  28.03390   1.659600        0        0   \n",
       "3                       Andorra  42.50630   1.521800        0        0   \n",
       "4                        Angola -11.20270  17.873900        0        0   \n",
       "\n",
       "   1/24/20  1/25/20  1/26/20  1/27/20  ...  7/9/20  7/10/20  7/11/20  7/12/20  \\\n",
       "0        0        0        0        0  ...   33908    34194    34366    34451   \n",
       "1        0        0        0        0  ...    3188     3278     3371     3454   \n",
       "2        0        0        0        0  ...   17808    18242    18712    19195   \n",
       "3        0        0        0        0  ...     855      855      855      855   \n",
       "4        0        0        0        0  ...     396      458      462      506   \n",
       "\n",
       "   7/13/20  7/14/20  7/15/20  7/16/20  7/17/20  7/18/20  \n",
       "0    34455    34740    34994    35070    35229    35301  \n",
       "1     3571     3667     3752     3851     3906     4008  \n",
       "2    19689    20216    20770    21355    21948    22549  \n",
       "3      858      861      862      877      880      880  \n",
       "4      525      541      576      607      638      687  \n",
       "\n",
       "[5 rows x 183 columns]"
      ]
     },
     "execution_count": 32,
     "metadata": {},
     "output_type": "execute_result"
    }
   ],
   "source": [
    "COVID_CONFIRMED_URL = 'https://raw.githubusercontent.com/CSSEGISandData/COVID-19/master/csse_covid_19_data/csse_covid_19_time_series/time_series_covid19_confirmed_global.csv'\n",
    "\n",
    "covid_confirmed = pd.read_csv(COVID_CONFIRMED_URL)\n",
    "\n",
    "covid_confirmed['Province/State'].fillna('', inplace=True)\n",
    "covid_confirmed['Country/Region'].fillna('', inplace=True)\n",
    "\n",
    "covid_confirmed.info() \n",
    "covid_confirmed.isna().sum().sum()\n",
    "\n",
    "covid_confirmed.to_csv('./Datasets/covid_confirmed.csv')\n",
    "covid_confirmed.head(5)"
   ]
  },
  {
   "cell_type": "markdown",
   "metadata": {},
   "source": [
    "#### *Subset 2 - Confirmed Deaths Due to COVID-19*"
   ]
  },
  {
   "cell_type": "code",
   "execution_count": 33,
   "metadata": {},
   "outputs": [
    {
     "name": "stdout",
     "output_type": "stream",
     "text": [
      "<class 'pandas.core.frame.DataFrame'>\n",
      "RangeIndex: 266 entries, 0 to 265\n",
      "Columns: 183 entries, Province/State to 7/18/20\n",
      "dtypes: float64(2), int64(179), object(2)\n",
      "memory usage: 380.4+ KB\n"
     ]
    }
   ],
   "source": [
    "COVID_DEATHS_URL = 'https://raw.githubusercontent.com/CSSEGISandData/COVID-19/master/csse_covid_19_data/csse_covid_19_time_series/time_series_covid19_deaths_global.csv'\n",
    "\n",
    "covid_deaths = pd.read_csv(COVID_DEATHS_URL)\n",
    "\n",
    "covid_deaths['Province/State'].fillna('', inplace=True)\n",
    "covid_deaths['Country/Region'].fillna('', inplace=True)\n",
    "\n",
    "covid_deaths.info()\n",
    "covid_deaths.isna().sum().sum()\n",
    "covid_deaths.head(5)\n",
    "\n",
    "covid_deaths.to_csv('./Datasets/covid_deaths.csv')"
   ]
  },
  {
   "cell_type": "markdown",
   "metadata": {},
   "source": [
    "#### *Subset 3 - Confirmed Recoveries from COVID-19*"
   ]
  },
  {
   "cell_type": "code",
   "execution_count": 34,
   "metadata": {},
   "outputs": [
    {
     "name": "stdout",
     "output_type": "stream",
     "text": [
      "<class 'pandas.core.frame.DataFrame'>\n",
      "RangeIndex: 253 entries, 0 to 252\n",
      "Columns: 183 entries, Province/State to 7/18/20\n",
      "dtypes: float64(2), int64(179), object(2)\n",
      "memory usage: 361.8+ KB\n"
     ]
    }
   ],
   "source": [
    "COVID_RECOVERED_URL = 'https://raw.githubusercontent.com/CSSEGISandData/COVID-19/master/csse_covid_19_data/csse_covid_19_time_series/time_series_covid19_recovered_global.csv'\n",
    "\n",
    "covid_recovered = pd.read_csv(COVID_RECOVERED_URL)\n",
    "\n",
    "covid_recovered['Province/State'].fillna('', inplace=True)\n",
    "covid_recovered['Country/Region'].fillna('', inplace=True)\n",
    "\n",
    "covid_recovered.info()\n",
    "covid_recovered.isna().sum().sum()\n",
    "covid_recovered.head(1)\n",
    "\n",
    "covid_recovered.to_csv('./Datasets/covid_recovered.csv')"
   ]
  },
  {
   "cell_type": "markdown",
   "metadata": {},
   "source": [
    "#### *Subset 4 - Grouped by Country*"
   ]
  },
  {
   "cell_type": "code",
   "execution_count": 35,
   "metadata": {},
   "outputs": [
    {
     "data": {
      "text/html": [
       "<div>\n",
       "<style scoped>\n",
       "    .dataframe tbody tr th:only-of-type {\n",
       "        vertical-align: middle;\n",
       "    }\n",
       "\n",
       "    .dataframe tbody tr th {\n",
       "        vertical-align: top;\n",
       "    }\n",
       "\n",
       "    .dataframe thead th {\n",
       "        text-align: right;\n",
       "    }\n",
       "</style>\n",
       "<table border=\"1\" class=\"dataframe\">\n",
       "  <thead>\n",
       "    <tr style=\"text-align: right;\">\n",
       "      <th></th>\n",
       "      <th>Country/Region</th>\n",
       "      <th>Lat</th>\n",
       "      <th>Long</th>\n",
       "      <th>date</th>\n",
       "      <th>date_confirmed_cases</th>\n",
       "    </tr>\n",
       "  </thead>\n",
       "  <tbody>\n",
       "    <tr>\n",
       "      <th>0</th>\n",
       "      <td>Afghanistan</td>\n",
       "      <td>33.93911</td>\n",
       "      <td>67.709953</td>\n",
       "      <td>1/22/20</td>\n",
       "      <td>0.0</td>\n",
       "    </tr>\n",
       "    <tr>\n",
       "      <th>1</th>\n",
       "      <td>Albania</td>\n",
       "      <td>41.15330</td>\n",
       "      <td>20.168300</td>\n",
       "      <td>1/22/20</td>\n",
       "      <td>0.0</td>\n",
       "    </tr>\n",
       "    <tr>\n",
       "      <th>2</th>\n",
       "      <td>Algeria</td>\n",
       "      <td>28.03390</td>\n",
       "      <td>1.659600</td>\n",
       "      <td>1/22/20</td>\n",
       "      <td>0.0</td>\n",
       "    </tr>\n",
       "    <tr>\n",
       "      <th>3</th>\n",
       "      <td>Andorra</td>\n",
       "      <td>42.50630</td>\n",
       "      <td>1.521800</td>\n",
       "      <td>1/22/20</td>\n",
       "      <td>0.0</td>\n",
       "    </tr>\n",
       "    <tr>\n",
       "      <th>4</th>\n",
       "      <td>Angola</td>\n",
       "      <td>-11.20270</td>\n",
       "      <td>17.873900</td>\n",
       "      <td>1/22/20</td>\n",
       "      <td>0.0</td>\n",
       "    </tr>\n",
       "  </tbody>\n",
       "</table>\n",
       "</div>"
      ],
      "text/plain": [
       "  Country/Region       Lat       Long     date  date_confirmed_cases\n",
       "0    Afghanistan  33.93911  67.709953  1/22/20                   0.0\n",
       "1        Albania  41.15330  20.168300  1/22/20                   0.0\n",
       "2        Algeria  28.03390   1.659600  1/22/20                   0.0\n",
       "3        Andorra  42.50630   1.521800  1/22/20                   0.0\n",
       "4         Angola -11.20270  17.873900  1/22/20                   0.0"
      ]
     },
     "execution_count": 35,
     "metadata": {},
     "output_type": "execute_result"
    }
   ],
   "source": [
    "covid_global_confirmed_df = covid_confirmed.loc[:,'Country/Region':].groupby(['Country/Region']\n",
    "                        ,as_index=False).mean()\n",
    "\n",
    "MIN_CASES = 100\n",
    "\n",
    "covid_confirmed_agg = covid_global_confirmed_df[covid_global_confirmed_df.iloc[:, 3:].max(axis=1) > MIN_CASES]\n",
    "covid_confirmed_agg\n",
    "\n",
    "covid_confirmed_agg_long = pd.melt(covid_confirmed_agg,\n",
    "                                   id_vars=covid_confirmed_agg.iloc[:, :3],\n",
    "                                   var_name='date',\n",
    "                                   value_vars=covid_confirmed_agg.iloc[:, 3:],\n",
    "                                   value_name='date_confirmed_cases')\n",
    "covid_confirmed_agg_long.to_csv('./Datasets/covid_confirmed_by_country_agg.csv')\n",
    "covid_confirmed_agg_long.head()"
   ]
  },
  {
   "cell_type": "markdown",
   "metadata": {},
   "source": [
    "# Part 2 - Time Series Data Analysis\n",
    "\n",
    "Within the next portion of this exploratory data analysis, my goal was to take a granular approach for complete understanding of the data. I conducted a time series data analysis of all countries with some feature engineering to show the regression pattern for each of the following: \n",
    "\n",
    "+ Confirmed Case Total by Month to Date\n",
    "+ Confirmed Deaths Total by Month to Date\n",
    "+ Confirmed Recoveries Total by Month to Date\n",
    "+ Confirmed Active (Inconclusive) Cases by Month to Date \n"
   ]
  },
  {
   "cell_type": "markdown",
   "metadata": {},
   "source": [
    "#### Time Series Analysis : Confirmed Case Total by Month to Date \n",
    "+ Time series data analysis for confirmed cases of COVID-19"
   ]
  },
  {
   "cell_type": "markdown",
   "metadata": {},
   "source": [
    "## 1 - Confirmed Cases "
   ]
  },
  {
   "cell_type": "markdown",
   "metadata": {},
   "source": [
    "#### MAX CONFIRMED CASES IN A GIVEN MONTH"
   ]
  },
  {
   "cell_type": "code",
   "execution_count": 36,
   "metadata": {},
   "outputs": [
    {
     "data": {
      "text/html": [
       "<div>\n",
       "<style scoped>\n",
       "    .dataframe tbody tr th:only-of-type {\n",
       "        vertical-align: middle;\n",
       "    }\n",
       "\n",
       "    .dataframe tbody tr th {\n",
       "        vertical-align: top;\n",
       "    }\n",
       "\n",
       "    .dataframe thead th {\n",
       "        text-align: right;\n",
       "    }\n",
       "</style>\n",
       "<table border=\"1\" class=\"dataframe\">\n",
       "  <thead>\n",
       "    <tr style=\"text-align: right;\">\n",
       "      <th></th>\n",
       "      <th>1/22/20</th>\n",
       "      <th>1/23/20</th>\n",
       "      <th>1/24/20</th>\n",
       "      <th>1/25/20</th>\n",
       "      <th>1/26/20</th>\n",
       "      <th>1/27/20</th>\n",
       "      <th>1/28/20</th>\n",
       "      <th>1/29/20</th>\n",
       "      <th>1/30/20</th>\n",
       "      <th>1/31/20</th>\n",
       "      <th>...</th>\n",
       "      <th>7/9/20</th>\n",
       "      <th>7/10/20</th>\n",
       "      <th>7/11/20</th>\n",
       "      <th>7/12/20</th>\n",
       "      <th>7/13/20</th>\n",
       "      <th>7/14/20</th>\n",
       "      <th>7/15/20</th>\n",
       "      <th>7/16/20</th>\n",
       "      <th>7/17/20</th>\n",
       "      <th>7/18/20</th>\n",
       "    </tr>\n",
       "  </thead>\n",
       "  <tbody>\n",
       "    <tr>\n",
       "      <th>0</th>\n",
       "      <td>0</td>\n",
       "      <td>0</td>\n",
       "      <td>0</td>\n",
       "      <td>0</td>\n",
       "      <td>0</td>\n",
       "      <td>0</td>\n",
       "      <td>0</td>\n",
       "      <td>0</td>\n",
       "      <td>0</td>\n",
       "      <td>0</td>\n",
       "      <td>...</td>\n",
       "      <td>33908</td>\n",
       "      <td>34194</td>\n",
       "      <td>34366</td>\n",
       "      <td>34451</td>\n",
       "      <td>34455</td>\n",
       "      <td>34740</td>\n",
       "      <td>34994</td>\n",
       "      <td>35070</td>\n",
       "      <td>35229</td>\n",
       "      <td>35301</td>\n",
       "    </tr>\n",
       "    <tr>\n",
       "      <th>1</th>\n",
       "      <td>0</td>\n",
       "      <td>0</td>\n",
       "      <td>0</td>\n",
       "      <td>0</td>\n",
       "      <td>0</td>\n",
       "      <td>0</td>\n",
       "      <td>0</td>\n",
       "      <td>0</td>\n",
       "      <td>0</td>\n",
       "      <td>0</td>\n",
       "      <td>...</td>\n",
       "      <td>3188</td>\n",
       "      <td>3278</td>\n",
       "      <td>3371</td>\n",
       "      <td>3454</td>\n",
       "      <td>3571</td>\n",
       "      <td>3667</td>\n",
       "      <td>3752</td>\n",
       "      <td>3851</td>\n",
       "      <td>3906</td>\n",
       "      <td>4008</td>\n",
       "    </tr>\n",
       "    <tr>\n",
       "      <th>2</th>\n",
       "      <td>0</td>\n",
       "      <td>0</td>\n",
       "      <td>0</td>\n",
       "      <td>0</td>\n",
       "      <td>0</td>\n",
       "      <td>0</td>\n",
       "      <td>0</td>\n",
       "      <td>0</td>\n",
       "      <td>0</td>\n",
       "      <td>0</td>\n",
       "      <td>...</td>\n",
       "      <td>17808</td>\n",
       "      <td>18242</td>\n",
       "      <td>18712</td>\n",
       "      <td>19195</td>\n",
       "      <td>19689</td>\n",
       "      <td>20216</td>\n",
       "      <td>20770</td>\n",
       "      <td>21355</td>\n",
       "      <td>21948</td>\n",
       "      <td>22549</td>\n",
       "    </tr>\n",
       "    <tr>\n",
       "      <th>3</th>\n",
       "      <td>0</td>\n",
       "      <td>0</td>\n",
       "      <td>0</td>\n",
       "      <td>0</td>\n",
       "      <td>0</td>\n",
       "      <td>0</td>\n",
       "      <td>0</td>\n",
       "      <td>0</td>\n",
       "      <td>0</td>\n",
       "      <td>0</td>\n",
       "      <td>...</td>\n",
       "      <td>855</td>\n",
       "      <td>855</td>\n",
       "      <td>855</td>\n",
       "      <td>855</td>\n",
       "      <td>858</td>\n",
       "      <td>861</td>\n",
       "      <td>862</td>\n",
       "      <td>877</td>\n",
       "      <td>880</td>\n",
       "      <td>880</td>\n",
       "    </tr>\n",
       "    <tr>\n",
       "      <th>4</th>\n",
       "      <td>0</td>\n",
       "      <td>0</td>\n",
       "      <td>0</td>\n",
       "      <td>0</td>\n",
       "      <td>0</td>\n",
       "      <td>0</td>\n",
       "      <td>0</td>\n",
       "      <td>0</td>\n",
       "      <td>0</td>\n",
       "      <td>0</td>\n",
       "      <td>...</td>\n",
       "      <td>396</td>\n",
       "      <td>458</td>\n",
       "      <td>462</td>\n",
       "      <td>506</td>\n",
       "      <td>525</td>\n",
       "      <td>541</td>\n",
       "      <td>576</td>\n",
       "      <td>607</td>\n",
       "      <td>638</td>\n",
       "      <td>687</td>\n",
       "    </tr>\n",
       "  </tbody>\n",
       "</table>\n",
       "<p>5 rows × 179 columns</p>\n",
       "</div>"
      ],
      "text/plain": [
       "   1/22/20  1/23/20  1/24/20  1/25/20  1/26/20  1/27/20  1/28/20  1/29/20  \\\n",
       "0        0        0        0        0        0        0        0        0   \n",
       "1        0        0        0        0        0        0        0        0   \n",
       "2        0        0        0        0        0        0        0        0   \n",
       "3        0        0        0        0        0        0        0        0   \n",
       "4        0        0        0        0        0        0        0        0   \n",
       "\n",
       "   1/30/20  1/31/20  ...  7/9/20  7/10/20  7/11/20  7/12/20  7/13/20  7/14/20  \\\n",
       "0        0        0  ...   33908    34194    34366    34451    34455    34740   \n",
       "1        0        0  ...    3188     3278     3371     3454     3571     3667   \n",
       "2        0        0  ...   17808    18242    18712    19195    19689    20216   \n",
       "3        0        0  ...     855      855      855      855      858      861   \n",
       "4        0        0  ...     396      458      462      506      525      541   \n",
       "\n",
       "   7/15/20  7/16/20  7/17/20  7/18/20  \n",
       "0    34994    35070    35229    35301  \n",
       "1     3752     3851     3906     4008  \n",
       "2    20770    21355    21948    22549  \n",
       "3      862      877      880      880  \n",
       "4      576      607      638      687  \n",
       "\n",
       "[5 rows x 179 columns]"
      ]
     },
     "execution_count": 36,
     "metadata": {},
     "output_type": "execute_result"
    }
   ],
   "source": [
    "covid_confirmed_raw = covid_confirmed.loc[:, '1/22/20':]\n",
    "covid_confirmed_count = covid_confirmed_raw.sum().max()\n",
    "covid_confirmed_raw.head()"
   ]
  },
  {
   "cell_type": "code",
   "execution_count": 37,
   "metadata": {},
   "outputs": [
    {
     "data": {
      "text/html": [
       "<div>\n",
       "<style scoped>\n",
       "    .dataframe tbody tr th:only-of-type {\n",
       "        vertical-align: middle;\n",
       "    }\n",
       "\n",
       "    .dataframe tbody tr th {\n",
       "        vertical-align: top;\n",
       "    }\n",
       "\n",
       "    .dataframe thead th {\n",
       "        text-align: right;\n",
       "    }\n",
       "</style>\n",
       "<table border=\"1\" class=\"dataframe\">\n",
       "  <thead>\n",
       "    <tr style=\"text-align: right;\">\n",
       "      <th></th>\n",
       "      <th>Date</th>\n",
       "      <th>Count</th>\n",
       "    </tr>\n",
       "  </thead>\n",
       "  <tbody>\n",
       "    <tr>\n",
       "      <th>1/22/20</th>\n",
       "      <td>1/22/20</td>\n",
       "      <td>555</td>\n",
       "    </tr>\n",
       "    <tr>\n",
       "      <th>1/23/20</th>\n",
       "      <td>1/23/20</td>\n",
       "      <td>654</td>\n",
       "    </tr>\n",
       "    <tr>\n",
       "      <th>1/24/20</th>\n",
       "      <td>1/24/20</td>\n",
       "      <td>941</td>\n",
       "    </tr>\n",
       "    <tr>\n",
       "      <th>1/25/20</th>\n",
       "      <td>1/25/20</td>\n",
       "      <td>1434</td>\n",
       "    </tr>\n",
       "    <tr>\n",
       "      <th>1/26/20</th>\n",
       "      <td>1/26/20</td>\n",
       "      <td>2118</td>\n",
       "    </tr>\n",
       "    <tr>\n",
       "      <th>...</th>\n",
       "      <td>...</td>\n",
       "      <td>...</td>\n",
       "    </tr>\n",
       "    <tr>\n",
       "      <th>7/14/20</th>\n",
       "      <td>7/14/20</td>\n",
       "      <td>13329678</td>\n",
       "    </tr>\n",
       "    <tr>\n",
       "      <th>7/15/20</th>\n",
       "      <td>7/15/20</td>\n",
       "      <td>13560803</td>\n",
       "    </tr>\n",
       "    <tr>\n",
       "      <th>7/16/20</th>\n",
       "      <td>7/16/20</td>\n",
       "      <td>13813333</td>\n",
       "    </tr>\n",
       "    <tr>\n",
       "      <th>7/17/20</th>\n",
       "      <td>7/17/20</td>\n",
       "      <td>14055299</td>\n",
       "    </tr>\n",
       "    <tr>\n",
       "      <th>7/18/20</th>\n",
       "      <td>7/18/20</td>\n",
       "      <td>14288689</td>\n",
       "    </tr>\n",
       "  </tbody>\n",
       "</table>\n",
       "<p>179 rows × 2 columns</p>\n",
       "</div>"
      ],
      "text/plain": [
       "            Date     Count\n",
       "1/22/20  1/22/20       555\n",
       "1/23/20  1/23/20       654\n",
       "1/24/20  1/24/20       941\n",
       "1/25/20  1/25/20      1434\n",
       "1/26/20  1/26/20      2118\n",
       "...          ...       ...\n",
       "7/14/20  7/14/20  13329678\n",
       "7/15/20  7/15/20  13560803\n",
       "7/16/20  7/16/20  13813333\n",
       "7/17/20  7/17/20  14055299\n",
       "7/18/20  7/18/20  14288689\n",
       "\n",
       "[179 rows x 2 columns]"
      ]
     },
     "execution_count": 37,
     "metadata": {},
     "output_type": "execute_result"
    }
   ],
   "source": [
    "raw_confirmed_cases_ts = covid_confirmed.iloc[:, 4:].sum(axis=0)\n",
    "\n",
    "raw_confirmed_cases_df = pd.DataFrame({\n",
    "    \"Date\": raw_confirmed_cases_ts.index,\n",
    "    \"Count\": raw_confirmed_cases_ts\n",
    "})\n",
    "\n",
    "raw_confirmed_cases_df"
   ]
  },
  {
   "cell_type": "code",
   "execution_count": 38,
   "metadata": {},
   "outputs": [
    {
     "data": {
      "text/plain": [
       "14288689"
      ]
     },
     "execution_count": 38,
     "metadata": {},
     "output_type": "execute_result"
    }
   ],
   "source": [
    "covid_confirmed_count"
   ]
  },
  {
   "cell_type": "code",
   "execution_count": 39,
   "metadata": {},
   "outputs": [
    {
     "data": {
      "text/plain": [
       "<Figure size 576x396 with 0 Axes>"
      ]
     },
     "metadata": {},
     "output_type": "display_data"
    },
    {
     "data": {
      "image/png": "[encoded data removed]",
      "text/plain": [
       "<Figure size 1152x432 with 1 Axes>"
      ]
     },
     "metadata": {},
     "output_type": "display_data"
    }
   ],
   "source": [
    "# Building time series plot # \n",
    "## Use Plotly range slider, seaborn, and matplotlib \n",
    "\n",
    "\n",
    "## Styling ## \n",
    "plt.style.use('seaborn')\n",
    "plt.tight_layout()\n",
    "\n",
    "# Line config and setup #\n",
    "\n",
    "fig, ax = plt.subplots(figsize=(16,6))\n",
    "ax.xaxis.set_major_locator(ticker.MultipleLocator(7))\n",
    "ax.xaxis.set_minor_locator(ticker.MultipleLocator(1))\n",
    "\n",
    "plt.gcf().autofmt_xdate()\n",
    "plt.xlabel('Date')\n",
    "plt.ylabel('Number of Cases (Millions)')\n",
    "\n",
    "## Range Slider - Tough to get working atm, so WIP. ## \n",
    "\n",
    "# fig = go.Figure()\n",
    "\n",
    "# fig.add_trace(\n",
    "#     go.Scatter(x=list(raw_confirmed_cases_df['Date']), y=list(raw_confirmed_cases_df['Count']))\n",
    "# )\n",
    "\n",
    "# fig.update_layout(\n",
    "#     xaxis=dict(\n",
    "#         rangeselector=dict(\n",
    "#             buttons=list([\n",
    "#                 dict(count=1,\n",
    "#                      label=\"1m\",\n",
    "#                      step=\"month\",\n",
    "#                      stepmode=\"backward\"),\n",
    "#                 dict(count=6,\n",
    "#                      label=\"6m\",\n",
    "#                      step=\"month\",\n",
    "#                      stepmode=\"backward\"),\n",
    "#                 dict(count=1,\n",
    "#                      label=\"YTD\",\n",
    "#                      step=\"year\",\n",
    "#                      stepmode=\"todate\"),\n",
    "#                 dict(step=\"all\")\n",
    "#             ])\n",
    "#         ),\n",
    "#         rangeslider=dict(\n",
    "#             visible=True\n",
    "#         ),\n",
    "#         type=\"date\"\n",
    "#     )\n",
    "# )\n",
    "\n",
    "# Plot #\n",
    "plt.plot(raw_confirmed_cases_ts, linestyle='solid')\n",
    "plt.show()\n"
   ]
  },
  {
   "cell_type": "markdown",
   "metadata": {},
   "source": []
  },
  {
   "cell_type": "markdown",
   "metadata": {},
   "source": [
    "### 2 - Confirmed Deaths"
   ]
  },
  {
   "cell_type": "markdown",
   "metadata": {},
   "source": [
    "#### MAX CONFIRMED DEATHS IN A GIVEN MONTH\n"
   ]
  },
  {
   "cell_type": "code",
   "execution_count": 40,
   "metadata": {},
   "outputs": [
    {
     "data": {
      "text/html": [
       "<div>\n",
       "<style scoped>\n",
       "    .dataframe tbody tr th:only-of-type {\n",
       "        vertical-align: middle;\n",
       "    }\n",
       "\n",
       "    .dataframe tbody tr th {\n",
       "        vertical-align: top;\n",
       "    }\n",
       "\n",
       "    .dataframe thead th {\n",
       "        text-align: right;\n",
       "    }\n",
       "</style>\n",
       "<table border=\"1\" class=\"dataframe\">\n",
       "  <thead>\n",
       "    <tr style=\"text-align: right;\">\n",
       "      <th></th>\n",
       "      <th>1/22/20</th>\n",
       "      <th>1/23/20</th>\n",
       "      <th>1/24/20</th>\n",
       "      <th>1/25/20</th>\n",
       "      <th>1/26/20</th>\n",
       "      <th>1/27/20</th>\n",
       "      <th>1/28/20</th>\n",
       "      <th>1/29/20</th>\n",
       "      <th>1/30/20</th>\n",
       "      <th>1/31/20</th>\n",
       "      <th>...</th>\n",
       "      <th>7/9/20</th>\n",
       "      <th>7/10/20</th>\n",
       "      <th>7/11/20</th>\n",
       "      <th>7/12/20</th>\n",
       "      <th>7/13/20</th>\n",
       "      <th>7/14/20</th>\n",
       "      <th>7/15/20</th>\n",
       "      <th>7/16/20</th>\n",
       "      <th>7/17/20</th>\n",
       "      <th>7/18/20</th>\n",
       "    </tr>\n",
       "  </thead>\n",
       "  <tbody>\n",
       "    <tr>\n",
       "      <th>0</th>\n",
       "      <td>0</td>\n",
       "      <td>0</td>\n",
       "      <td>0</td>\n",
       "      <td>0</td>\n",
       "      <td>0</td>\n",
       "      <td>0</td>\n",
       "      <td>0</td>\n",
       "      <td>0</td>\n",
       "      <td>0</td>\n",
       "      <td>0</td>\n",
       "      <td>...</td>\n",
       "      <td>957</td>\n",
       "      <td>971</td>\n",
       "      <td>994</td>\n",
       "      <td>1010</td>\n",
       "      <td>1012</td>\n",
       "      <td>1048</td>\n",
       "      <td>1094</td>\n",
       "      <td>1113</td>\n",
       "      <td>1147</td>\n",
       "      <td>1164</td>\n",
       "    </tr>\n",
       "    <tr>\n",
       "      <th>1</th>\n",
       "      <td>0</td>\n",
       "      <td>0</td>\n",
       "      <td>0</td>\n",
       "      <td>0</td>\n",
       "      <td>0</td>\n",
       "      <td>0</td>\n",
       "      <td>0</td>\n",
       "      <td>0</td>\n",
       "      <td>0</td>\n",
       "      <td>0</td>\n",
       "      <td>...</td>\n",
       "      <td>83</td>\n",
       "      <td>85</td>\n",
       "      <td>89</td>\n",
       "      <td>93</td>\n",
       "      <td>95</td>\n",
       "      <td>97</td>\n",
       "      <td>101</td>\n",
       "      <td>104</td>\n",
       "      <td>107</td>\n",
       "      <td>111</td>\n",
       "    </tr>\n",
       "    <tr>\n",
       "      <th>2</th>\n",
       "      <td>0</td>\n",
       "      <td>0</td>\n",
       "      <td>0</td>\n",
       "      <td>0</td>\n",
       "      <td>0</td>\n",
       "      <td>0</td>\n",
       "      <td>0</td>\n",
       "      <td>0</td>\n",
       "      <td>0</td>\n",
       "      <td>0</td>\n",
       "      <td>...</td>\n",
       "      <td>988</td>\n",
       "      <td>996</td>\n",
       "      <td>1004</td>\n",
       "      <td>1011</td>\n",
       "      <td>1018</td>\n",
       "      <td>1028</td>\n",
       "      <td>1040</td>\n",
       "      <td>1052</td>\n",
       "      <td>1057</td>\n",
       "      <td>1068</td>\n",
       "    </tr>\n",
       "    <tr>\n",
       "      <th>3</th>\n",
       "      <td>0</td>\n",
       "      <td>0</td>\n",
       "      <td>0</td>\n",
       "      <td>0</td>\n",
       "      <td>0</td>\n",
       "      <td>0</td>\n",
       "      <td>0</td>\n",
       "      <td>0</td>\n",
       "      <td>0</td>\n",
       "      <td>0</td>\n",
       "      <td>...</td>\n",
       "      <td>52</td>\n",
       "      <td>52</td>\n",
       "      <td>52</td>\n",
       "      <td>52</td>\n",
       "      <td>52</td>\n",
       "      <td>52</td>\n",
       "      <td>52</td>\n",
       "      <td>52</td>\n",
       "      <td>52</td>\n",
       "      <td>52</td>\n",
       "    </tr>\n",
       "    <tr>\n",
       "      <th>4</th>\n",
       "      <td>0</td>\n",
       "      <td>0</td>\n",
       "      <td>0</td>\n",
       "      <td>0</td>\n",
       "      <td>0</td>\n",
       "      <td>0</td>\n",
       "      <td>0</td>\n",
       "      <td>0</td>\n",
       "      <td>0</td>\n",
       "      <td>0</td>\n",
       "      <td>...</td>\n",
       "      <td>22</td>\n",
       "      <td>23</td>\n",
       "      <td>23</td>\n",
       "      <td>26</td>\n",
       "      <td>26</td>\n",
       "      <td>26</td>\n",
       "      <td>27</td>\n",
       "      <td>28</td>\n",
       "      <td>29</td>\n",
       "      <td>29</td>\n",
       "    </tr>\n",
       "  </tbody>\n",
       "</table>\n",
       "<p>5 rows × 179 columns</p>\n",
       "</div>"
      ],
      "text/plain": [
       "   1/22/20  1/23/20  1/24/20  1/25/20  1/26/20  1/27/20  1/28/20  1/29/20  \\\n",
       "0        0        0        0        0        0        0        0        0   \n",
       "1        0        0        0        0        0        0        0        0   \n",
       "2        0        0        0        0        0        0        0        0   \n",
       "3        0        0        0        0        0        0        0        0   \n",
       "4        0        0        0        0        0        0        0        0   \n",
       "\n",
       "   1/30/20  1/31/20  ...  7/9/20  7/10/20  7/11/20  7/12/20  7/13/20  7/14/20  \\\n",
       "0        0        0  ...     957      971      994     1010     1012     1048   \n",
       "1        0        0  ...      83       85       89       93       95       97   \n",
       "2        0        0  ...     988      996     1004     1011     1018     1028   \n",
       "3        0        0  ...      52       52       52       52       52       52   \n",
       "4        0        0  ...      22       23       23       26       26       26   \n",
       "\n",
       "   7/15/20  7/16/20  7/17/20  7/18/20  \n",
       "0     1094     1113     1147     1164  \n",
       "1      101      104      107      111  \n",
       "2     1040     1052     1057     1068  \n",
       "3       52       52       52       52  \n",
       "4       27       28       29       29  \n",
       "\n",
       "[5 rows x 179 columns]"
      ]
     },
     "execution_count": 40,
     "metadata": {},
     "output_type": "execute_result"
    }
   ],
   "source": [
    "raw_confirmed_deaths_ts = covid_deaths.loc[:, '1/22/20':]\n",
    "covid_deaths_count = raw_confirmed_deaths_ts.sum().max()\n",
    "raw_confirmed_deaths_ts.head()"
   ]
  },
  {
   "cell_type": "code",
   "execution_count": 41,
   "metadata": {},
   "outputs": [
    {
     "data": {
      "text/plain": [
       "1/22/20        17\n",
       "1/23/20        18\n",
       "1/24/20        26\n",
       "1/25/20        42\n",
       "1/26/20        56\n",
       "            ...  \n",
       "7/14/20    578484\n",
       "7/15/20    583977\n",
       "7/16/20    589776\n",
       "7/17/20    596518\n",
       "7/18/20    602138\n",
       "Length: 179, dtype: int64"
      ]
     },
     "execution_count": 41,
     "metadata": {},
     "output_type": "execute_result"
    }
   ],
   "source": [
    "raw_confirmed_deaths_ts = covid_deaths.iloc[:, 4:].sum(axis=0)\n",
    "\n",
    "raw_confirmed_deaths_ts"
   ]
  },
  {
   "cell_type": "code",
   "execution_count": 42,
   "metadata": {},
   "outputs": [
    {
     "data": {
      "text/plain": [
       "602138"
      ]
     },
     "execution_count": 42,
     "metadata": {},
     "output_type": "execute_result"
    }
   ],
   "source": [
    "covid_deaths_count"
   ]
  },
  {
   "cell_type": "code",
   "execution_count": 43,
   "metadata": {},
   "outputs": [
    {
     "data": {
      "text/plain": [
       "<Figure size 576x396 with 0 Axes>"
      ]
     },
     "metadata": {},
     "output_type": "display_data"
    },
    {
     "data": {
      "image/png": "[encoded data removed]",
      "text/plain": [
       "<Figure size 1152x432 with 1 Axes>"
      ]
     },
     "metadata": {},
     "output_type": "display_data"
    }
   ],
   "source": [
    "# Building time series plot # \n",
    "\n",
    "## Styling ## \n",
    "plt.style.use('seaborn')\n",
    "plt.tight_layout()\n",
    "\n",
    "## line configuration and setup \n",
    "fig, ax = plt.subplots(figsize=(16,6))\n",
    "ax.xaxis.set_major_locator(ticker.MultipleLocator(7))\n",
    "ax.xaxis.set_minor_locator(ticker.MultipleLocator(1))\n",
    "\n",
    "plt.gcf().autofmt_xdate()\n",
    "plt.xlabel('Date')\n",
    "plt.ylabel('Number of Cases')\n",
    "plt.xticks(rotation=25)\n",
    "\n",
    "## Plot ## \n",
    "plt.plot(raw_confirmed_deaths_ts, linestyle='solid')\n",
    "plt.show()\n"
   ]
  },
  {
   "cell_type": "markdown",
   "metadata": {},
   "source": [
    "### 3 - Confirmed Recoveries"
   ]
  },
  {
   "cell_type": "markdown",
   "metadata": {},
   "source": [
    "#### MAX CONFIRMED RECOVERIES IN A GIVEN MONTH"
   ]
  },
  {
   "cell_type": "code",
   "execution_count": 44,
   "metadata": {},
   "outputs": [
    {
     "data": {
      "text/html": [
       "<div>\n",
       "<style scoped>\n",
       "    .dataframe tbody tr th:only-of-type {\n",
       "        vertical-align: middle;\n",
       "    }\n",
       "\n",
       "    .dataframe tbody tr th {\n",
       "        vertical-align: top;\n",
       "    }\n",
       "\n",
       "    .dataframe thead th {\n",
       "        text-align: right;\n",
       "    }\n",
       "</style>\n",
       "<table border=\"1\" class=\"dataframe\">\n",
       "  <thead>\n",
       "    <tr style=\"text-align: right;\">\n",
       "      <th></th>\n",
       "      <th>1/22/20</th>\n",
       "      <th>1/23/20</th>\n",
       "      <th>1/24/20</th>\n",
       "      <th>1/25/20</th>\n",
       "      <th>1/26/20</th>\n",
       "      <th>1/27/20</th>\n",
       "      <th>1/28/20</th>\n",
       "      <th>1/29/20</th>\n",
       "      <th>1/30/20</th>\n",
       "      <th>1/31/20</th>\n",
       "      <th>...</th>\n",
       "      <th>7/9/20</th>\n",
       "      <th>7/10/20</th>\n",
       "      <th>7/11/20</th>\n",
       "      <th>7/12/20</th>\n",
       "      <th>7/13/20</th>\n",
       "      <th>7/14/20</th>\n",
       "      <th>7/15/20</th>\n",
       "      <th>7/16/20</th>\n",
       "      <th>7/17/20</th>\n",
       "      <th>7/18/20</th>\n",
       "    </tr>\n",
       "  </thead>\n",
       "  <tbody>\n",
       "    <tr>\n",
       "      <th>0</th>\n",
       "      <td>0</td>\n",
       "      <td>0</td>\n",
       "      <td>0</td>\n",
       "      <td>0</td>\n",
       "      <td>0</td>\n",
       "      <td>0</td>\n",
       "      <td>0</td>\n",
       "      <td>0</td>\n",
       "      <td>0</td>\n",
       "      <td>0</td>\n",
       "      <td>...</td>\n",
       "      <td>20847</td>\n",
       "      <td>20882</td>\n",
       "      <td>21135</td>\n",
       "      <td>21216</td>\n",
       "      <td>21254</td>\n",
       "      <td>21454</td>\n",
       "      <td>22456</td>\n",
       "      <td>22824</td>\n",
       "      <td>23151</td>\n",
       "      <td>23273</td>\n",
       "    </tr>\n",
       "    <tr>\n",
       "      <th>1</th>\n",
       "      <td>0</td>\n",
       "      <td>0</td>\n",
       "      <td>0</td>\n",
       "      <td>0</td>\n",
       "      <td>0</td>\n",
       "      <td>0</td>\n",
       "      <td>0</td>\n",
       "      <td>0</td>\n",
       "      <td>0</td>\n",
       "      <td>0</td>\n",
       "      <td>...</td>\n",
       "      <td>1832</td>\n",
       "      <td>1875</td>\n",
       "      <td>1881</td>\n",
       "      <td>1946</td>\n",
       "      <td>2014</td>\n",
       "      <td>2062</td>\n",
       "      <td>2091</td>\n",
       "      <td>2137</td>\n",
       "      <td>2214</td>\n",
       "      <td>2264</td>\n",
       "    </tr>\n",
       "    <tr>\n",
       "      <th>2</th>\n",
       "      <td>0</td>\n",
       "      <td>0</td>\n",
       "      <td>0</td>\n",
       "      <td>0</td>\n",
       "      <td>0</td>\n",
       "      <td>0</td>\n",
       "      <td>0</td>\n",
       "      <td>0</td>\n",
       "      <td>0</td>\n",
       "      <td>0</td>\n",
       "      <td>...</td>\n",
       "      <td>12637</td>\n",
       "      <td>13124</td>\n",
       "      <td>13124</td>\n",
       "      <td>13743</td>\n",
       "      <td>14019</td>\n",
       "      <td>14295</td>\n",
       "      <td>14792</td>\n",
       "      <td>15107</td>\n",
       "      <td>15430</td>\n",
       "      <td>15744</td>\n",
       "    </tr>\n",
       "    <tr>\n",
       "      <th>3</th>\n",
       "      <td>0</td>\n",
       "      <td>0</td>\n",
       "      <td>0</td>\n",
       "      <td>0</td>\n",
       "      <td>0</td>\n",
       "      <td>0</td>\n",
       "      <td>0</td>\n",
       "      <td>0</td>\n",
       "      <td>0</td>\n",
       "      <td>0</td>\n",
       "      <td>...</td>\n",
       "      <td>802</td>\n",
       "      <td>803</td>\n",
       "      <td>803</td>\n",
       "      <td>803</td>\n",
       "      <td>803</td>\n",
       "      <td>803</td>\n",
       "      <td>803</td>\n",
       "      <td>803</td>\n",
       "      <td>803</td>\n",
       "      <td>803</td>\n",
       "    </tr>\n",
       "    <tr>\n",
       "      <th>4</th>\n",
       "      <td>0</td>\n",
       "      <td>0</td>\n",
       "      <td>0</td>\n",
       "      <td>0</td>\n",
       "      <td>0</td>\n",
       "      <td>0</td>\n",
       "      <td>0</td>\n",
       "      <td>0</td>\n",
       "      <td>0</td>\n",
       "      <td>0</td>\n",
       "      <td>...</td>\n",
       "      <td>117</td>\n",
       "      <td>117</td>\n",
       "      <td>118</td>\n",
       "      <td>118</td>\n",
       "      <td>118</td>\n",
       "      <td>118</td>\n",
       "      <td>124</td>\n",
       "      <td>124</td>\n",
       "      <td>199</td>\n",
       "      <td>210</td>\n",
       "    </tr>\n",
       "  </tbody>\n",
       "</table>\n",
       "<p>5 rows × 179 columns</p>\n",
       "</div>"
      ],
      "text/plain": [
       "   1/22/20  1/23/20  1/24/20  1/25/20  1/26/20  1/27/20  1/28/20  1/29/20  \\\n",
       "0        0        0        0        0        0        0        0        0   \n",
       "1        0        0        0        0        0        0        0        0   \n",
       "2        0        0        0        0        0        0        0        0   \n",
       "3        0        0        0        0        0        0        0        0   \n",
       "4        0        0        0        0        0        0        0        0   \n",
       "\n",
       "   1/30/20  1/31/20  ...  7/9/20  7/10/20  7/11/20  7/12/20  7/13/20  7/14/20  \\\n",
       "0        0        0  ...   20847    20882    21135    21216    21254    21454   \n",
       "1        0        0  ...    1832     1875     1881     1946     2014     2062   \n",
       "2        0        0  ...   12637    13124    13124    13743    14019    14295   \n",
       "3        0        0  ...     802      803      803      803      803      803   \n",
       "4        0        0  ...     117      117      118      118      118      118   \n",
       "\n",
       "   7/15/20  7/16/20  7/17/20  7/18/20  \n",
       "0    22456    22824    23151    23273  \n",
       "1     2091     2137     2214     2264  \n",
       "2    14792    15107    15430    15744  \n",
       "3      803      803      803      803  \n",
       "4      124      124      199      210  \n",
       "\n",
       "[5 rows x 179 columns]"
      ]
     },
     "execution_count": 44,
     "metadata": {},
     "output_type": "execute_result"
    }
   ],
   "source": [
    "raw_confirmed_recoveries_ts = covid_recovered.loc[:, '1/22/20':]\n",
    "covid_recovered_count = raw_confirmed_recoveries_ts.sum().max()\n",
    "raw_confirmed_recoveries_ts.head()"
   ]
  },
  {
   "cell_type": "code",
   "execution_count": 45,
   "metadata": {},
   "outputs": [
    {
     "data": {
      "text/plain": [
       "1/22/20         28\n",
       "1/23/20         30\n",
       "1/24/20         36\n",
       "1/25/20         39\n",
       "1/26/20         52\n",
       "            ...   \n",
       "7/14/20    7399474\n",
       "7/15/20    7559252\n",
       "7/16/20    7711525\n",
       "7/17/20    7894890\n",
       "7/18/20    8027451\n",
       "Length: 179, dtype: int64"
      ]
     },
     "execution_count": 45,
     "metadata": {},
     "output_type": "execute_result"
    }
   ],
   "source": [
    "raw_confirmed_recoveries_ts = covid_recovered.iloc[:, 4:].sum(axis=0)\n",
    "\n",
    "raw_confirmed_recoveries_ts"
   ]
  },
  {
   "cell_type": "code",
   "execution_count": 46,
   "metadata": {},
   "outputs": [
    {
     "data": {
      "text/plain": [
       "8027451"
      ]
     },
     "execution_count": 46,
     "metadata": {},
     "output_type": "execute_result"
    }
   ],
   "source": [
    "covid_recovered_count"
   ]
  },
  {
   "cell_type": "code",
   "execution_count": 47,
   "metadata": {
    "scrolled": true
   },
   "outputs": [
    {
     "data": {
      "text/plain": [
       "<Figure size 576x396 with 0 Axes>"
      ]
     },
     "metadata": {},
     "output_type": "display_data"
    },
    {
     "data": {
      "image/png": "[encoded data removed]",
      "text/plain": [
       "<Figure size 1152x432 with 1 Axes>"
      ]
     },
     "metadata": {},
     "output_type": "display_data"
    }
   ],
   "source": [
    "# Building time series plot # \n",
    "\n",
    "## Styling ## \n",
    "plt.style.use('seaborn')\n",
    "plt.tight_layout()\n",
    "\n",
    "## Line Config and Line Spacing \n",
    "\n",
    "fig, ax = plt.subplots(figsize=(16, 6)) \n",
    "ax.xaxis.set_major_locator(ticker.MultipleLocator(7))\n",
    "ax.xaxis.set_minor_locator(ticker.MultipleLocator(1))\n",
    "\n",
    "plt.gcf().autofmt_xdate()\n",
    "plt.xlabel('Date')\n",
    "plt.ylabel('Number of Cases (Millions)')\n",
    "plt.xticks(rotation=25)\n",
    "\n",
    "## Plot ## \n",
    "plt.plot(raw_confirmed_recoveries_ts, linestyle='solid')\n",
    "plt.show()\n"
   ]
  },
  {
   "cell_type": "code",
   "execution_count": 48,
   "metadata": {},
   "outputs": [
    {
     "data": {
      "text/plain": [
       "8027451"
      ]
     },
     "execution_count": 48,
     "metadata": {},
     "output_type": "execute_result"
    }
   ],
   "source": [
    "covid_recovered_count"
   ]
  },
  {
   "cell_type": "markdown",
   "metadata": {},
   "source": [
    "## 4 - Active (Inconclusive) Cases "
   ]
  },
  {
   "cell_type": "code",
   "execution_count": 49,
   "metadata": {},
   "outputs": [
    {
     "data": {
      "text/plain": [
       "1/22/20     510\n",
       "1/23/20     606\n",
       "1/24/20     879\n",
       "1/25/20    1353\n",
       "1/26/20    2010\n",
       "dtype: int64"
      ]
     },
     "execution_count": 49,
     "metadata": {},
     "output_type": "execute_result"
    }
   ],
   "source": [
    "raw_confirmed_active_ts = raw_confirmed_cases_ts - raw_confirmed_deaths_ts - raw_confirmed_recoveries_ts\n",
    "\n",
    "raw_confirmed_active_ts.head()"
   ]
  },
  {
   "cell_type": "code",
   "execution_count": 50,
   "metadata": {},
   "outputs": [
    {
     "data": {
      "text/plain": [
       "5659100"
      ]
     },
     "execution_count": 50,
     "metadata": {},
     "output_type": "execute_result"
    }
   ],
   "source": [
    "covid_active_count = covid_confirmed_count - covid_deaths_count - covid_recovered_count\n",
    "covid_active_count"
   ]
  },
  {
   "cell_type": "code",
   "execution_count": 51,
   "metadata": {},
   "outputs": [
    {
     "data": {
      "text/plain": [
       "<Figure size 576x396 with 0 Axes>"
      ]
     },
     "metadata": {},
     "output_type": "display_data"
    },
    {
     "data": {
      "image/png": "[encoded data removed]",
      "text/plain": [
       "<Figure size 1152x432 with 1 Axes>"
      ]
     },
     "metadata": {},
     "output_type": "display_data"
    }
   ],
   "source": [
    "# Building time series plot # \n",
    "\n",
    "## Styling ## \n",
    "plt.style.use('seaborn')\n",
    "plt.tight_layout()\n",
    "\n",
    "## Line Config and Line Spacing \n",
    "\n",
    "fig, ax = plt.subplots(figsize=(16, 6)) \n",
    "ax.xaxis.set_major_locator(ticker.MultipleLocator(7))\n",
    "ax.xaxis.set_minor_locator(ticker.MultipleLocator(1))\n",
    "plt.gcf().autofmt_xdate()\n",
    "\n",
    "## Graph Constraints ## \n",
    "\n",
    "plt.xlabel('Date')\n",
    "plt.ylabel('Number of Cases (Millions)')\n",
    "plt.xticks(rotation=25)\n",
    "\n",
    "\n",
    "## Plot ## \n",
    "\n",
    "plt.plot(raw_confirmed_active_ts, linestyle='solid')\n",
    "plt.show()"
   ]
  },
  {
   "cell_type": "code",
   "execution_count": 52,
   "metadata": {},
   "outputs": [
    {
     "data": {
      "text/html": [
       "<div>\n",
       "<style scoped>\n",
       "    .dataframe tbody tr th:only-of-type {\n",
       "        vertical-align: middle;\n",
       "    }\n",
       "\n",
       "    .dataframe tbody tr th {\n",
       "        vertical-align: top;\n",
       "    }\n",
       "\n",
       "    .dataframe thead th {\n",
       "        text-align: right;\n",
       "    }\n",
       "</style>\n",
       "<table border=\"1\" class=\"dataframe\">\n",
       "  <thead>\n",
       "    <tr style=\"text-align: right;\">\n",
       "      <th></th>\n",
       "      <th>confirmed</th>\n",
       "      <th>deaths</th>\n",
       "      <th>recovered</th>\n",
       "      <th>active</th>\n",
       "    </tr>\n",
       "  </thead>\n",
       "  <tbody>\n",
       "    <tr>\n",
       "      <th>0</th>\n",
       "      <td>14288689</td>\n",
       "      <td>602138</td>\n",
       "      <td>8027451</td>\n",
       "      <td>5659100</td>\n",
       "    </tr>\n",
       "  </tbody>\n",
       "</table>\n",
       "</div>"
      ],
      "text/plain": [
       "   confirmed  deaths  recovered   active\n",
       "0   14288689  602138    8027451  5659100"
      ]
     },
     "execution_count": 52,
     "metadata": {},
     "output_type": "execute_result"
    }
   ],
   "source": [
    "# Creating a dataframe summarizing confirmed cases and those that are still active, awaiting conclusion\n",
    "raw_confirmed_active_ts = [covid_confirmed_count - covid_deaths_count - covid_recovered_count]\n",
    "world_df = pd.DataFrame({\n",
    "    'confirmed': [covid_confirmed_count],\n",
    "    'deaths': [covid_deaths_count],\n",
    "    'recovered': [covid_recovered_count],\n",
    "    'active': raw_confirmed_active_ts\n",
    "})\n",
    "\n",
    "world_df"
   ]
  },
  {
   "cell_type": "code",
   "execution_count": 53,
   "metadata": {},
   "outputs": [
    {
     "data": {
      "text/html": [
       "<div>\n",
       "<style scoped>\n",
       "    .dataframe tbody tr th:only-of-type {\n",
       "        vertical-align: middle;\n",
       "    }\n",
       "\n",
       "    .dataframe tbody tr th {\n",
       "        vertical-align: top;\n",
       "    }\n",
       "\n",
       "    .dataframe thead th {\n",
       "        text-align: right;\n",
       "    }\n",
       "</style>\n",
       "<table border=\"1\" class=\"dataframe\">\n",
       "  <thead>\n",
       "    <tr style=\"text-align: right;\">\n",
       "      <th></th>\n",
       "      <th>status</th>\n",
       "      <th>count</th>\n",
       "      <th>upper</th>\n",
       "    </tr>\n",
       "  </thead>\n",
       "  <tbody>\n",
       "    <tr>\n",
       "      <th>0</th>\n",
       "      <td>active</td>\n",
       "      <td>5659100</td>\n",
       "      <td>confirmed</td>\n",
       "    </tr>\n",
       "    <tr>\n",
       "      <th>1</th>\n",
       "      <td>deaths</td>\n",
       "      <td>602138</td>\n",
       "      <td>confirmed</td>\n",
       "    </tr>\n",
       "    <tr>\n",
       "      <th>2</th>\n",
       "      <td>recovered</td>\n",
       "      <td>8027451</td>\n",
       "      <td>confirmed</td>\n",
       "    </tr>\n",
       "  </tbody>\n",
       "</table>\n",
       "</div>"
      ],
      "text/plain": [
       "      status    count      upper\n",
       "0     active  5659100  confirmed\n",
       "1     deaths   602138  confirmed\n",
       "2  recovered  8027451  confirmed"
      ]
     },
     "execution_count": 53,
     "metadata": {},
     "output_type": "execute_result"
    }
   ],
   "source": [
    "# Creating a dataframe summarizing max confirmed cases and their statuses\n",
    "\n",
    "world_long_df = world_df.melt(value_vars=['active', 'deaths', 'recovered'],\n",
    "                              var_name=\"status\",\n",
    "                              value_name=\"count\")\n",
    "\n",
    "world_long_df['upper'] = 'confirmed'\n",
    "\n",
    "world_long_df"
   ]
  },
  {
   "cell_type": "markdown",
   "metadata": {},
   "source": [
    "# Part 3. Summarizing Our Findings "
   ]
  },
  {
   "cell_type": "markdown",
   "metadata": {},
   "source": [
    "## Time Series Plots\n",
    "\n",
    "In summary, we compile the total case counts and observe the logarithmic and linear patterns among confirmed cases, deaths, recoveries, and active (inconclusive) cases. "
   ]
  },
  {
   "cell_type": "code",
   "execution_count": 54,
   "metadata": {},
   "outputs": [
    {
     "data": {
      "text/plain": [
       "1/22/20    28\n",
       "1/23/20    30\n",
       "1/24/20    36\n",
       "1/25/20    39\n",
       "1/26/20    52\n",
       "dtype: int64"
      ]
     },
     "execution_count": 54,
     "metadata": {},
     "output_type": "execute_result"
    }
   ],
   "source": [
    "covid_worldwide_confirmed = covid_confirmed.iloc[:, 4:].sum(axis=0)\n",
    "\n",
    "covid_worldwide_confirmed.head()\n",
    "covid_worldwide_deaths = covid_deaths.iloc[:, 4:].sum(axis=0)\n",
    "\n",
    "covid_worldwide_deaths.head()\n",
    "covid_worldwide_recovered = covid_recovered.iloc[:, 4:].sum(axis=0)\n",
    "\n",
    "covid_worldwide_recovered.head()"
   ]
  },
  {
   "cell_type": "code",
   "execution_count": 55,
   "metadata": {},
   "outputs": [
    {
     "data": {
      "text/plain": [
       "1/22/20     510\n",
       "1/23/20     606\n",
       "1/24/20     879\n",
       "1/25/20    1353\n",
       "1/26/20    2010\n",
       "dtype: int64"
      ]
     },
     "execution_count": 55,
     "metadata": {},
     "output_type": "execute_result"
    }
   ],
   "source": [
    "covid_worldwide_active = covid_worldwide_confirmed - covid_worldwide_deaths - covid_worldwide_recovered\n",
    "\n",
    "covid_worldwide_active.head()"
   ]
  },
  {
   "cell_type": "markdown",
   "metadata": {},
   "source": [
    "## Logarithmic Scale (Cases Over Time)\n",
    "\n",
    "Here, we can see that the dips in each line have a direct correlation. Confirmed cases drop at a similar rate to active cases, while recoveries increase as a result. This is constituted by the larger drop in deaths prior to March, where lockdowns and heightened CDC protocol were established. From then on, the active (inconclusive) cases flattened while confirmed cases and recoveries rose. Deaths began to flatten as well. "
   ]
  },
  {
   "cell_type": "code",
   "execution_count": 56,
   "metadata": {},
   "outputs": [
    {
     "data": {
      "image/png": "[encoded data removed]",
      "text/plain": [
       "<Figure size 1152x432 with 1 Axes>"
      ]
     },
     "metadata": {},
     "output_type": "display_data"
    }
   ],
   "source": [
    "fig, ax = plt.subplots(figsize=(16, 6))\n",
    "\n",
    "ax.set(yscale=\"log\")\n",
    "\n",
    "sns.lineplot(x=covid_worldwide_confirmed.index, y=covid_worldwide_confirmed, sort=False, linewidth=2)\n",
    "sns.lineplot(x=covid_worldwide_deaths.index, y=covid_worldwide_deaths, sort=False, linewidth=.5)\n",
    "sns.lineplot(x=covid_worldwide_recovered.index, y=covid_worldwide_recovered, sort=False, linewidth=.5)\n",
    "sns.lineplot(x=covid_worldwide_active.index, y=covid_worldwide_active, sort=False, linewidth=.5)\n",
    "\n",
    "## Line Config and Line Spacing \n",
    "\n",
    "ax.lines[0].set_linestyle(\"--\")\n",
    "ax.xaxis.set_major_locator(ticker.MultipleLocator(5))\n",
    "ax.xaxis.set_minor_locator(ticker.MultipleLocator(1))\n",
    "\n",
    "plt.suptitle(\"COVID-19 worldwide cases over the time\", fontsize=16, fontweight='bold', color='white')\n",
    "plt.title(\"(logarithmic scale)\", color='white')\n",
    "\n",
    "plt.xticks(rotation=45)\n",
    "plt.ylabel('Number of cases')\n",
    "\n",
    "ax.legend(['Confirmed', 'Deaths', 'Recovered', 'Active'])\n",
    "\n",
    "plt.show()"
   ]
  },
  {
   "cell_type": "markdown",
   "metadata": {},
   "source": [
    "## Linear Scale (Cases Over Time) \n",
    "\n",
    "When taking a linear approach, we see rapid exponential growth of confirmed cases, yet deaths are relatively flat. Recoveries follow suit in a similar fashion with some drops within April and June. Active or inconclusive cases stay level but increase gradually. We can likely see with the growth of confirmed cases and the proven correlation that deaths, recoveries, and active cases will rise. "
   ]
  },
  {
   "cell_type": "code",
   "execution_count": 57,
   "metadata": {},
   "outputs": [
    {
     "data": {
      "image/png": "[encoded data removed]",
      "text/plain": [
       "<Figure size 1152x432 with 1 Axes>"
      ]
     },
     "metadata": {},
     "output_type": "display_data"
    }
   ],
   "source": [
    "fig, ax = plt.subplots(figsize=(16, 6))\n",
    "\n",
    "ax.set(yscale=\"linear\")\n",
    "\n",
    "sns.lineplot(x=covid_worldwide_confirmed.index, y=covid_worldwide_confirmed, sort=False, linewidth=2)\n",
    "sns.lineplot(x=covid_worldwide_deaths.index, y=covid_worldwide_deaths, sort=False, linewidth=.5)\n",
    "sns.lineplot(x=covid_worldwide_recovered.index, y=covid_worldwide_recovered, sort=False, linewidth=.5)\n",
    "sns.lineplot(x=covid_worldwide_active.index, y=covid_worldwide_active, sort=False, linewidth=.5)\n",
    "\n",
    "# Line Config and Line Spacing \n",
    "ax.lines[0].set_linestyle(\"--\")\n",
    "ax.xaxis.set_major_locator(ticker.MultipleLocator(7))\n",
    "ax.xaxis.set_minor_locator(ticker.MultipleLocator(1))\n",
    "\n",
    "plt.suptitle(\"COVID-19 worldwide cases over the time\", fontsize=16, fontweight='bold', color='white')\n",
    "plt.title(\"(logarithmic scale)\", color='white')\n",
    "\n",
    "plt.xticks(rotation=25)\n",
    "plt.ylabel('Number of Cases (Millions)')\n",
    "\n",
    "ax.legend(['Confirmed', 'Deaths', 'Recovered', 'Active'])\n",
    "\n",
    "plt.show()"
   ]
  },
  {
   "cell_type": "code",
   "execution_count": 58,
   "metadata": {},
   "outputs": [
    {
     "data": {
      "image/png": "[encoded data removed]",
      "text/plain": [
       "<Figure size 576x396 with 1 Axes>"
      ]
     },
     "metadata": {},
     "output_type": "display_data"
    }
   ],
   "source": [
    "world_rate_df = pd.DataFrame({\n",
    "    'confirmed': covid_worldwide_confirmed,\n",
    "    'deaths': covid_worldwide_deaths,\n",
    "    'recovered': covid_worldwide_recovered,\n",
    "    'active': covid_worldwide_active\n",
    "}, index=covid_worldwide_confirmed.index)\n",
    "\n",
    "world_rate_df.tail()\n",
    "world_rate_df.describe()\n",
    "\n",
    "# Grab all averages of each and compare percentages\n",
    "\n",
    "confirmed = world_rate_df['confirmed'].mean()\n",
    "deaths = world_rate_df['deaths'].mean()\n",
    "recovered = world_rate_df['recovered'].mean()\n",
    "active = world_rate_df['active'].mean()\n",
    "\n",
    "# # Pie chart # # \n",
    "labels =  ['confirmed', 'deaths', 'recovered', 'active']\n",
    "sizes = [confirmed, deaths, recovered, active]\n",
    "explode = (0, 0.5, 0, 0)  \n",
    "\n",
    "fig1, ax1 = plt.subplots()\n",
    "ax1.pie(sizes, explode=explode, labels=labels, autopct='%1.1f%%',\n",
    "        shadow=True, startangle=90)\n",
    "ax1.axis('equal')  # Equal aspect ratio ensures that pie is drawn as a circle.\n",
    "\n",
    "plt.show()\n",
    "\n"
   ]
  },
  {
   "cell_type": "code",
   "execution_count": 59,
   "metadata": {},
   "outputs": [
    {
     "data": {
      "text/html": [
       "<div>\n",
       "<style scoped>\n",
       "    .dataframe tbody tr th:only-of-type {\n",
       "        vertical-align: middle;\n",
       "    }\n",
       "\n",
       "    .dataframe tbody tr th {\n",
       "        vertical-align: top;\n",
       "    }\n",
       "\n",
       "    .dataframe thead th {\n",
       "        text-align: right;\n",
       "    }\n",
       "</style>\n",
       "<table border=\"1\" class=\"dataframe\">\n",
       "  <thead>\n",
       "    <tr style=\"text-align: right;\">\n",
       "      <th></th>\n",
       "      <th>confirmed</th>\n",
       "      <th>deaths</th>\n",
       "      <th>recovered</th>\n",
       "      <th>active</th>\n",
       "      <th>Recovery Rate</th>\n",
       "      <th>Fatality Rate</th>\n",
       "      <th>date</th>\n",
       "    </tr>\n",
       "  </thead>\n",
       "  <tbody>\n",
       "    <tr>\n",
       "      <th>7/14/20</th>\n",
       "      <td>13329678</td>\n",
       "      <td>578484</td>\n",
       "      <td>7399474</td>\n",
       "      <td>5351720</td>\n",
       "      <td>55.51%</td>\n",
       "      <td>4.34%</td>\n",
       "      <td>7/14/20</td>\n",
       "    </tr>\n",
       "    <tr>\n",
       "      <th>7/15/20</th>\n",
       "      <td>13560803</td>\n",
       "      <td>583977</td>\n",
       "      <td>7559252</td>\n",
       "      <td>5417574</td>\n",
       "      <td>55.74%</td>\n",
       "      <td>4.31%</td>\n",
       "      <td>7/15/20</td>\n",
       "    </tr>\n",
       "    <tr>\n",
       "      <th>7/16/20</th>\n",
       "      <td>13813333</td>\n",
       "      <td>589776</td>\n",
       "      <td>7711525</td>\n",
       "      <td>5512032</td>\n",
       "      <td>55.83%</td>\n",
       "      <td>4.27%</td>\n",
       "      <td>7/16/20</td>\n",
       "    </tr>\n",
       "    <tr>\n",
       "      <th>7/17/20</th>\n",
       "      <td>14055299</td>\n",
       "      <td>596518</td>\n",
       "      <td>7894890</td>\n",
       "      <td>5563891</td>\n",
       "      <td>56.17%</td>\n",
       "      <td>4.24%</td>\n",
       "      <td>7/17/20</td>\n",
       "    </tr>\n",
       "    <tr>\n",
       "      <th>7/18/20</th>\n",
       "      <td>14288689</td>\n",
       "      <td>602138</td>\n",
       "      <td>8027451</td>\n",
       "      <td>5659100</td>\n",
       "      <td>56.18%</td>\n",
       "      <td>4.21%</td>\n",
       "      <td>7/18/20</td>\n",
       "    </tr>\n",
       "  </tbody>\n",
       "</table>\n",
       "</div>"
      ],
      "text/plain": [
       "         confirmed  deaths  recovered   active Recovery Rate Fatality Rate  \\\n",
       "7/14/20   13329678  578484    7399474  5351720        55.51%         4.34%   \n",
       "7/15/20   13560803  583977    7559252  5417574        55.74%         4.31%   \n",
       "7/16/20   13813333  589776    7711525  5512032        55.83%         4.27%   \n",
       "7/17/20   14055299  596518    7894890  5563891        56.17%         4.24%   \n",
       "7/18/20   14288689  602138    8027451  5659100        56.18%         4.21%   \n",
       "\n",
       "            date  \n",
       "7/14/20  7/14/20  \n",
       "7/15/20  7/15/20  \n",
       "7/16/20  7/16/20  \n",
       "7/17/20  7/17/20  \n",
       "7/18/20  7/18/20  "
      ]
     },
     "execution_count": 59,
     "metadata": {},
     "output_type": "execute_result"
    }
   ],
   "source": [
    "# Calculate the recovery rate and add it to the world_rate_df \n",
    "recovery_rate = (world_rate_df['recovered'] / world_rate_df['confirmed'] * 100)\n",
    "recovery_rate = [\"{:.2f}%\".format(val) for val in recovery_rate]\n",
    "world_rate_df['Recovery Rate'] = recovery_rate\n",
    "\n",
    "# Calculate the fatality rate and add it to the world_rate_df\n",
    "fatality_rate = (world_rate_df['deaths'] / world_rate_df['confirmed'] * 100)\n",
    "fatality_rate = [\"{:.2f}%\".format(val) for val in fatality_rate]\n",
    "world_rate_df['Fatality Rate'] = fatality_rate\n",
    "\n",
    "# Set the world_rate_df index to date \n",
    "\n",
    "world_rate_df['date'] = world_rate_df.index\n",
    "\n",
    "world_rate_df.tail()"
   ]
  },
  {
   "cell_type": "code",
   "execution_count": null,
   "metadata": {},
   "outputs": [],
   "source": [
    "fig = px.scatter_geo(covid_confirmed_agg_long,\n",
    "                     lat=\"Lat\", lon=\"Long\", color=\"Country/Region\",\n",
    "                     hover_name=\"Country/Region\", size=\"date_confirmed_cases\",\n",
    "                     size_max=50, animation_frame=\"date\",\n",
    "                     template='plotly_dark', projection=\"natural earth\",\n",
    "                     title=\"COVID-19 worldwide confirmed cases over time\")\n",
    "\n",
    "fig.show()"
   ]
  },
  {
   "cell_type": "code",
   "execution_count": null,
   "metadata": {},
   "outputs": [],
   "source": []
  },
  {
   "cell_type": "code",
   "execution_count": null,
   "metadata": {},
   "outputs": [],
   "source": []
  },
  {
   "cell_type": "code",
   "execution_count": null,
   "metadata": {},
   "outputs": [],
   "source": []
  },
  {
   "cell_type": "code",
   "execution_count": null,
   "metadata": {},
   "outputs": [],
   "source": []
  },
  {
   "cell_type": "code",
   "execution_count": null,
   "metadata": {},
   "outputs": [],
   "source": []
  },
  {
   "cell_type": "code",
   "execution_count": null,
   "metadata": {},
   "outputs": [],
   "source": []
  },
  {
   "cell_type": "code",
   "execution_count": null,
   "metadata": {},
   "outputs": [],
   "source": []
  },
  {
   "cell_type": "code",
   "execution_count": null,
   "metadata": {},
   "outputs": [],
   "source": []
  },
  {
   "cell_type": "code",
   "execution_count": null,
   "metadata": {},
   "outputs": [],
   "source": []
  },
  {
   "cell_type": "code",
   "execution_count": null,
   "metadata": {},
   "outputs": [],
   "source": []
  }
 ],
 "metadata": {
  "kernelspec": {
   "display_name": "Python 3",
   "language": "python",
   "name": "python3"
  },
  "language_info": {
   "codemirror_mode": {
    "name": "ipython",
    "version": 3
   },
   "file_extension": ".py",
   "mimetype": "text/x-python",
   "name": "python",
   "nbconvert_exporter": "python",
   "pygments_lexer": "ipython3",
   "version": "3.8.3"
  }
 },
 "nbformat": 4,
 "nbformat_minor": 2
}
