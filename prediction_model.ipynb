{
 "cells": [
  {
   "cell_type": "code",
   "execution_count": 34,
   "metadata": {},
   "outputs": [],
   "source": [
    "import numpy as np\n",
    "import pandas as pd\n",
    "import matplotlib.pyplot as plt\n",
    "import matplotlib.ticker as ticker\n",
    "import seaborn as sns\n",
    "\n",
    "from sklearn.linear_model import LinearRegression\n",
    "from sklearn.model_selection import train_test_split\n",
    "from sklearn.metrics import mean_absolute_error, mean_squared_error\n",
    "\n",
    "%matplotlib inline"
   ]
  },
  {
   "cell_type": "code",
   "execution_count": 35,
   "metadata": {},
   "outputs": [
    {
     "name": "stdout",
     "output_type": "stream",
     "text": [
      "<class 'pandas.core.frame.DataFrame'>\n",
      "RangeIndex: 266 entries, 0 to 265\n",
      "Columns: 185 entries, Province/State to 7/20/20\n",
      "dtypes: float64(2), int64(181), object(2)\n",
      "memory usage: 384.6+ KB\n"
     ]
    },
    {
     "data": {
      "text/plain": [
       "0"
      ]
     },
     "execution_count": 35,
     "metadata": {},
     "output_type": "execute_result"
    }
   ],
   "source": [
    "COVID_CONFIRMED_URL = 'https://raw.githubusercontent.com/CSSEGISandData/COVID-19/master/csse_covid_19_data/csse_covid_19_time_series/time_series_covid19_confirmed_global.csv'\n",
    "\n",
    "covid_worldwide_df = pd.read_csv(COVID_CONFIRMED_URL)\n",
    "\n",
    "covid_worldwide_df['Province/State'].fillna('', inplace=True)\n",
    "covid_worldwide_df['Country/Region'].fillna('', inplace=True)\n",
    "\n",
    "covid_worldwide_df.info() \n",
    "covid_worldwide_df.isna().sum().sum()"
   ]
  },
  {
   "cell_type": "code",
   "execution_count": 36,
   "metadata": {},
   "outputs": [
    {
     "data": {
      "text/html": [
       "<div>\n",
       "<style scoped>\n",
       "    .dataframe tbody tr th:only-of-type {\n",
       "        vertical-align: middle;\n",
       "    }\n",
       "\n",
       "    .dataframe tbody tr th {\n",
       "        vertical-align: top;\n",
       "    }\n",
       "\n",
       "    .dataframe thead th {\n",
       "        text-align: right;\n",
       "    }\n",
       "</style>\n",
       "<table border=\"1\" class=\"dataframe\">\n",
       "  <thead>\n",
       "    <tr style=\"text-align: right;\">\n",
       "      <th></th>\n",
       "      <th>Province/State</th>\n",
       "      <th>Country/Region</th>\n",
       "      <th>Lat</th>\n",
       "      <th>Long</th>\n",
       "      <th>date</th>\n",
       "      <th>confirmed</th>\n",
       "    </tr>\n",
       "  </thead>\n",
       "  <tbody>\n",
       "    <tr>\n",
       "      <th>0</th>\n",
       "      <td></td>\n",
       "      <td>Afghanistan</td>\n",
       "      <td>33.93911</td>\n",
       "      <td>67.709953</td>\n",
       "      <td>1/22/20</td>\n",
       "      <td>0</td>\n",
       "    </tr>\n",
       "    <tr>\n",
       "      <th>1</th>\n",
       "      <td></td>\n",
       "      <td>Albania</td>\n",
       "      <td>41.15330</td>\n",
       "      <td>20.168300</td>\n",
       "      <td>1/22/20</td>\n",
       "      <td>0</td>\n",
       "    </tr>\n",
       "    <tr>\n",
       "      <th>2</th>\n",
       "      <td></td>\n",
       "      <td>Algeria</td>\n",
       "      <td>28.03390</td>\n",
       "      <td>1.659600</td>\n",
       "      <td>1/22/20</td>\n",
       "      <td>0</td>\n",
       "    </tr>\n",
       "    <tr>\n",
       "      <th>3</th>\n",
       "      <td></td>\n",
       "      <td>Andorra</td>\n",
       "      <td>42.50630</td>\n",
       "      <td>1.521800</td>\n",
       "      <td>1/22/20</td>\n",
       "      <td>0</td>\n",
       "    </tr>\n",
       "    <tr>\n",
       "      <th>4</th>\n",
       "      <td></td>\n",
       "      <td>Angola</td>\n",
       "      <td>-11.20270</td>\n",
       "      <td>17.873900</td>\n",
       "      <td>1/22/20</td>\n",
       "      <td>0</td>\n",
       "    </tr>\n",
       "  </tbody>\n",
       "</table>\n",
       "</div>"
      ],
      "text/plain": [
       "  Province/State Country/Region       Lat       Long     date  confirmed\n",
       "0                   Afghanistan  33.93911  67.709953  1/22/20          0\n",
       "1                       Albania  41.15330  20.168300  1/22/20          0\n",
       "2                       Algeria  28.03390   1.659600  1/22/20          0\n",
       "3                       Andorra  42.50630   1.521800  1/22/20          0\n",
       "4                        Angola -11.20270  17.873900  1/22/20          0"
      ]
     },
     "execution_count": 36,
     "metadata": {},
     "output_type": "execute_result"
    }
   ],
   "source": [
    "covid_confirmed_long = pd.melt(covid_worldwide_df,\n",
    "                               id_vars=covid_worldwide_df.iloc[:, :4],\n",
    "                               var_name='date',\n",
    "                               value_name='confirmed')\n",
    "covid_confirmed_long.shape\n",
    "covid_confirmed_long.head()"
   ]
  },
  {
   "cell_type": "code",
   "execution_count": 37,
   "metadata": {},
   "outputs": [
    {
     "data": {
      "text/html": [
       "<div>\n",
       "<style scoped>\n",
       "    .dataframe tbody tr th:only-of-type {\n",
       "        vertical-align: middle;\n",
       "    }\n",
       "\n",
       "    .dataframe tbody tr th {\n",
       "        vertical-align: top;\n",
       "    }\n",
       "\n",
       "    .dataframe thead th {\n",
       "        text-align: right;\n",
       "    }\n",
       "</style>\n",
       "<table border=\"1\" class=\"dataframe\">\n",
       "  <thead>\n",
       "    <tr style=\"text-align: right;\">\n",
       "      <th></th>\n",
       "      <th>Country/Region</th>\n",
       "      <th>date</th>\n",
       "      <th>Lat</th>\n",
       "      <th>Long</th>\n",
       "      <th>confirmed</th>\n",
       "    </tr>\n",
       "  </thead>\n",
       "  <tbody>\n",
       "    <tr>\n",
       "      <th>33244</th>\n",
       "      <td>US</td>\n",
       "      <td>7/16/20</td>\n",
       "      <td>40.0</td>\n",
       "      <td>-100.0</td>\n",
       "      <td>3576157</td>\n",
       "    </tr>\n",
       "    <tr>\n",
       "      <th>33432</th>\n",
       "      <td>US</td>\n",
       "      <td>7/17/20</td>\n",
       "      <td>40.0</td>\n",
       "      <td>-100.0</td>\n",
       "      <td>3647715</td>\n",
       "    </tr>\n",
       "    <tr>\n",
       "      <th>33620</th>\n",
       "      <td>US</td>\n",
       "      <td>7/18/20</td>\n",
       "      <td>40.0</td>\n",
       "      <td>-100.0</td>\n",
       "      <td>3711413</td>\n",
       "    </tr>\n",
       "    <tr>\n",
       "      <th>33808</th>\n",
       "      <td>US</td>\n",
       "      <td>7/19/20</td>\n",
       "      <td>40.0</td>\n",
       "      <td>-100.0</td>\n",
       "      <td>3773260</td>\n",
       "    </tr>\n",
       "    <tr>\n",
       "      <th>33996</th>\n",
       "      <td>US</td>\n",
       "      <td>7/20/20</td>\n",
       "      <td>40.0</td>\n",
       "      <td>-100.0</td>\n",
       "      <td>3830010</td>\n",
       "    </tr>\n",
       "  </tbody>\n",
       "</table>\n",
       "</div>"
      ],
      "text/plain": [
       "      Country/Region     date   Lat   Long  confirmed\n",
       "33244             US  7/16/20  40.0 -100.0    3576157\n",
       "33432             US  7/17/20  40.0 -100.0    3647715\n",
       "33620             US  7/18/20  40.0 -100.0    3711413\n",
       "33808             US  7/19/20  40.0 -100.0    3773260\n",
       "33996             US  7/20/20  40.0 -100.0    3830010"
      ]
     },
     "execution_count": 37,
     "metadata": {},
     "output_type": "execute_result"
    }
   ],
   "source": [
    "## For linear regression data ## \n",
    "\n",
    "## Use the US for our prediction, and narrow down to the US to test our regression model. ## \n",
    "\n",
    "# Group by the country, date and drop coordinates\n",
    "\n",
    "covid_us_df = covid_confirmed_long.groupby(['Country/Region', 'date'], sort=False).sum().reset_index()\n",
    "covid_us_df.drop(['Lat', 'Long'], axis=1)\n",
    "\n",
    "covid_us_df = covid_us_df[covid_us_df['Country/Region']=='US']\n",
    "\n",
    "covid_us_df.tail()"
   ]
  },
  {
   "cell_type": "code",
   "execution_count": 38,
   "metadata": {},
   "outputs": [],
   "source": [
    "days = np.array([\n",
    "    row for row in range(len(covid_us_df['date']))])\n",
    "\n",
    "days = days.reshape(-1, 1)\n",
    "#days"
   ]
  },
  {
   "cell_type": "code",
   "execution_count": 39,
   "metadata": {},
   "outputs": [],
   "source": [
    "covid_us_confirmed = list(covid_us_df['confirmed'][90:])\n",
    "#covid_us_confirmed"
   ]
  },
  {
   "cell_type": "code",
   "execution_count": 40,
   "metadata": {},
   "outputs": [],
   "source": [
    "x = days[90:].reshape(-1,1)\n",
    "y = list(np.log(covid_us_confirmed))\n",
    "\n",
    "#x"
   ]
  },
  {
   "cell_type": "code",
   "execution_count": 41,
   "metadata": {},
   "outputs": [],
   "source": [
    "## Train, Test, Split ## \n",
    "\n",
    "x_train, x_test, y_train, y_test = train_test_split(x, y,\n",
    "                                                    test_size=0.1,\n",
    "                                                    shuffle=False)"
   ]
  },
  {
   "cell_type": "code",
   "execution_count": 42,
   "metadata": {},
   "outputs": [
    {
     "data": {
      "text/plain": [
       "LinearRegression()"
      ]
     },
     "execution_count": 42,
     "metadata": {},
     "output_type": "execute_result"
    }
   ],
   "source": [
    "## Fitting ## \n",
    "\n",
    "linear_model = LinearRegression(fit_intercept=True)\n",
    "linear_model.fit(x_train, y_train)"
   ]
  },
  {
   "cell_type": "code",
   "execution_count": 43,
   "metadata": {},
   "outputs": [
    {
     "data": {
      "text/plain": [
       "array([14.97444514, 14.98927275, 15.00410035, 15.01892796, 15.03375556,\n",
       "       15.04858317, 15.06341077, 15.07823838, 15.09306599, 15.10789359])"
      ]
     },
     "execution_count": 43,
     "metadata": {},
     "output_type": "execute_result"
    }
   ],
   "source": [
    "## Testing prediction ## \n",
    "\n",
    "y_pred = linear_model.predict(x_test)\n",
    "\n",
    "y_pred"
   ]
  },
  {
   "cell_type": "code",
   "execution_count": 44,
   "metadata": {},
   "outputs": [
    {
     "name": "stdout",
     "output_type": "stream",
     "text": [
      "MAE: 0.03654860104899331\n",
      "MSE: 0.001475143981117409\n"
     ]
    }
   ],
   "source": [
    "print('MAE:', mean_absolute_error(y_pred, y_test))\n",
    "print('MSE:',mean_squared_error(y_pred, y_test))\n",
    "\n",
    "## Very low mean absolute & mean squared error. \n",
    "#Strong averages and tight data prediction! Continuing to the correlation coefficient and molding slope-intercept form.#"
   ]
  },
  {
   "cell_type": "code",
   "execution_count": 45,
   "metadata": {},
   "outputs": [],
   "source": [
    "a = linear_model.coef_\n",
    "b = linear_model.intercept_"
   ]
  },
  {
   "cell_type": "code",
   "execution_count": 46,
   "metadata": {},
   "outputs": [],
   "source": [
    "# To see how COVID will be predicted in daily cases up to winter, we will take the number of days added to the range\n",
    "# Current date - 7/21/2020 \n",
    "# Projected date - 12/21/2020, Winter Solstice, 153 Days. \n",
    "# We will forecast 185 to account for the first month of winter \n",
    "\n",
    "x_forecast = list(np.arange(len(days), len(days) + 185))\n",
    "# x_forecast"
   ]
  },
  {
   "cell_type": "code",
   "execution_count": 47,
   "metadata": {},
   "outputs": [],
   "source": [
    "# Linear regression equation y=mx+b. \n",
    "y_forecast = [(a*x+b)[0] for x in x_forecast]\n",
    "# y_forecast"
   ]
  },
  {
   "cell_type": "code",
   "execution_count": 48,
   "metadata": {},
   "outputs": [],
   "source": [
    "y_train_l = list(np.exp(y_train))\n",
    "y_test_l = list(np.exp(y_test))\n",
    "y_pred_l = list(np.exp(y_pred))\n",
    "y_fore_l = list(np.exp(y_forecast))\n",
    "\n",
    "# y_train_l, y_test_l, y_pred_l, y_fore_l"
   ]
  },
  {
   "cell_type": "code",
   "execution_count": 49,
   "metadata": {},
   "outputs": [
    {
     "data": {
      "image/png": "[encoded data removed]",
      "text/plain": [
       "<Figure size 1152x432 with 1 Axes>"
      ]
     },
     "metadata": {
      "needs_background": "light"
     },
     "output_type": "display_data"
    }
   ],
   "source": [
    "## Building a plot to visualize the prediction of daily cases of COVID-19 in the US toward Winter \n",
    "## 180 days since 1/22 will be 7/22. From 7/22, 120 days to 11/22 will show COVID-19's projected impact with confirmed cases in winter. \n",
    "## The impact is seen to be exponential according to this model\n",
    "\n",
    "fig, ax = plt.subplots(figsize=(16, 6))\n",
    "\n",
    "sns.lineplot(x=days.reshape(-1), y=covid_us_df['confirmed'],\n",
    "             markeredgecolor=\"#2980b9\", markerfacecolor=\"#2980b9\", markersize=8, marker=\"o\",\n",
    "             sort=False, linewidth=1, color=\"#2980b9\")\n",
    "\n",
    "sns.lineplot(x=x_train.reshape(-1), y=y_train_l,\n",
    "             markeredgecolor=\"#3498db\", markerfacecolor=\"#3498db\", markersize=5, marker=\"o\",\n",
    "             sort=False, linewidth=.5, color=\"#3498db\")\n",
    "\n",
    "sns.lineplot(x=x_test.reshape(-1), y=y_test_l,\n",
    "             markeredgecolor=\"#e67e22\", markerfacecolor=\"#e67e22\", markersize=8, marker=\"o\",\n",
    "             sort=False, linewidth=.5, color=\"#e67e22\")\n",
    "\n",
    "sns.lineplot(x=x_test.reshape(-1), y=y_pred_l,\n",
    "             markeredgecolor=\"#f1c40f\", markerfacecolor=\"#f1c40f\", markersize=8, marker=\"o\",\n",
    "             sort=False, linewidth=1, color=\"#f1c40f\")\n",
    "\n",
    "sns.lineplot(x=x_forecast, y=y_fore_l,\n",
    "             markeredgecolor=\"#2ecc71\", markerfacecolor=\"#2ecc71\", markersize=8, marker=\"o\",\n",
    "             sort=False, linewidth=.5, color=\"#2ecc71\")\n",
    "\n",
    "plt.suptitle(\"COVID-19 Confirmed Cases and Forecasting in the United States\", fontsize=16, fontweight='bold', color='white')\n",
    "\n",
    "plt.ylabel('Confirmed Cases (Millions)')\n",
    "plt.xlabel('Days Since 1/22')\n",
    "\n",
    "plt.legend(['Unused train data', 'Train data', 'Test data', 'Predictions', 'Forecast'])\n",
    "plt.savefig('reg.svg', format='svg', dpi=1200)\n",
    "plt.show()"
   ]
  },
  {
   "cell_type": "markdown",
   "metadata": {},
   "source": [
    "## Conclusion\n",
    "\n",
    "* As we are able to infer, the prediction model shows in days past that there was a slow rise of daily cases and a potential to continue the trend upward. The forecast is exponential, likely to climb past 5 million cases within reaching the winter solstice on 12/21/2020 (360 days from the beginning of our data on 1/21/2020). Toward 6 million cases are forecasted within the first 30 days of Winter.\n",
    "\n",
    "**_We may confirm the virus will accelerate spread based upon our forecast model_**"
   ]
  }
 ],
 "metadata": {
  "kernelspec": {
   "display_name": "Python 3",
   "language": "python",
   "name": "python3"
  },
  "language_info": {
   "codemirror_mode": {
    "name": "ipython",
    "version": 3
   },
   "file_extension": ".py",
   "mimetype": "text/x-python",
   "name": "python",
   "nbconvert_exporter": "python",
   "pygments_lexer": "ipython3",
   "version": "3.8.3"
  }
 },
 "nbformat": 4,
 "nbformat_minor": 4
}
